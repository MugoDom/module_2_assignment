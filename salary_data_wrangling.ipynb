{
 "cells": [
  {
   "cell_type": "markdown",
   "metadata": {},
   "source": [
    "### Assignment Overview\n",
    "In this assignment, we work with the provided *salary data* to develop a Jupyter Notebook. The objective is to perform various tasks related to data processing, error handling, and file handling using Python."
   ]
  },
  {
   "cell_type": "markdown",
   "metadata": {},
   "source": [
    "### Assignment Description\n",
    "The assignment consists of the following tasks:\n",
    "\n",
    "- Import Data:\n",
    "\n",
    "\n",
    " - Import the provided salary data into your Jupyter Notebook.\n",
    "\n",
    "- Create Employee Function:\n",
    "\n",
    " - Develop a Python function that accepts an employee's name as input and returns their details.\n",
    " - Data Processing with Dictionary:\n",
    "\n",
    "- Process the salary data using a Python dictionary.\n",
    "- Error Handling:\n",
    "\n",
    " - Implement error handling in your code to address potential issues gracefully.\n",
    "\n",
    "- Export Employee Details:\n",
    "\n",
    " - Export an employee's details to a CSV file and save it within a zipped folder named \"Employee Profile.\"\n",
    " - Unzip and Display Data with R:\n",
    "\n",
    "- Use R to unzip the folder created in step 5 and display the data."
   ]
  },
  {
   "cell_type": "markdown",
   "metadata": {},
   "source": [
    "## 1. Import Data"
   ]
  },
  {
   "cell_type": "code",
   "execution_count": 37,
   "metadata": {},
   "outputs": [],
   "source": [
    "# Import the required libraries\n",
    "import pandas as pd\n",
    "import numpy as np\n",
    "import csv\n",
    "import os\n",
    "import zipfile"
   ]
  },
  {
   "cell_type": "code",
   "execution_count": 10,
   "metadata": {},
   "outputs": [
    {
     "name": "stderr",
     "output_type": "stream",
     "text": [
      "/opt/anaconda3/lib/python3.8/site-packages/IPython/core/interactiveshell.py:3146: DtypeWarning: Columns (2,3,4,5) have mixed types.Specify dtype option on import or set low_memory=False.\n",
      "  has_raised = await self.run_ast_nodes(code_ast.body, cell_name,\n"
     ]
    },
    {
     "data": {
      "text/html": [
       "<div>\n",
       "<style scoped>\n",
       "    .dataframe tbody tr th:only-of-type {\n",
       "        vertical-align: middle;\n",
       "    }\n",
       "\n",
       "    .dataframe tbody tr th {\n",
       "        vertical-align: top;\n",
       "    }\n",
       "\n",
       "    .dataframe thead th {\n",
       "        text-align: right;\n",
       "    }\n",
       "</style>\n",
       "<table border=\"1\" class=\"dataframe\">\n",
       "  <thead>\n",
       "    <tr style=\"text-align: right;\">\n",
       "      <th></th>\n",
       "      <th>EmployeeName</th>\n",
       "      <th>JobTitle</th>\n",
       "      <th>BasePay</th>\n",
       "      <th>OvertimePay</th>\n",
       "      <th>OtherPay</th>\n",
       "      <th>Benefits</th>\n",
       "      <th>TotalPay</th>\n",
       "      <th>TotalPayBenefits</th>\n",
       "      <th>Year</th>\n",
       "    </tr>\n",
       "  </thead>\n",
       "  <tbody>\n",
       "    <tr>\n",
       "      <th>0</th>\n",
       "      <td>NATHANIEL FORD</td>\n",
       "      <td>GENERAL MANAGER-METROPOLITAN TRANSIT AUTHORITY</td>\n",
       "      <td>167411</td>\n",
       "      <td>0</td>\n",
       "      <td>400184</td>\n",
       "      <td>Not Provided</td>\n",
       "      <td>567595.43</td>\n",
       "      <td>567595.43</td>\n",
       "      <td>2011</td>\n",
       "    </tr>\n",
       "    <tr>\n",
       "      <th>1</th>\n",
       "      <td>GARY JIMENEZ</td>\n",
       "      <td>CAPTAIN III (POLICE DEPARTMENT)</td>\n",
       "      <td>155966</td>\n",
       "      <td>245132</td>\n",
       "      <td>137811</td>\n",
       "      <td>Not Provided</td>\n",
       "      <td>538909.28</td>\n",
       "      <td>538909.28</td>\n",
       "      <td>2011</td>\n",
       "    </tr>\n",
       "    <tr>\n",
       "      <th>2</th>\n",
       "      <td>ALBERT PARDINI</td>\n",
       "      <td>CAPTAIN III (POLICE DEPARTMENT)</td>\n",
       "      <td>212739</td>\n",
       "      <td>106088</td>\n",
       "      <td>16452.6</td>\n",
       "      <td>Not Provided</td>\n",
       "      <td>335279.91</td>\n",
       "      <td>335279.91</td>\n",
       "      <td>2011</td>\n",
       "    </tr>\n",
       "    <tr>\n",
       "      <th>3</th>\n",
       "      <td>CHRISTOPHER CHONG</td>\n",
       "      <td>WIRE ROPE CABLE MAINTENANCE MECHANIC</td>\n",
       "      <td>77916</td>\n",
       "      <td>56120.7</td>\n",
       "      <td>198307</td>\n",
       "      <td>Not Provided</td>\n",
       "      <td>332343.61</td>\n",
       "      <td>332343.61</td>\n",
       "      <td>2011</td>\n",
       "    </tr>\n",
       "    <tr>\n",
       "      <th>4</th>\n",
       "      <td>PATRICK GARDNER</td>\n",
       "      <td>DEPUTY CHIEF OF DEPARTMENT,(FIRE DEPARTMENT)</td>\n",
       "      <td>134402</td>\n",
       "      <td>9737</td>\n",
       "      <td>182235</td>\n",
       "      <td>Not Provided</td>\n",
       "      <td>326373.19</td>\n",
       "      <td>326373.19</td>\n",
       "      <td>2011</td>\n",
       "    </tr>\n",
       "  </tbody>\n",
       "</table>\n",
       "</div>"
      ],
      "text/plain": [
       "        EmployeeName                                        JobTitle BasePay  \\\n",
       "0     NATHANIEL FORD  GENERAL MANAGER-METROPOLITAN TRANSIT AUTHORITY  167411   \n",
       "1       GARY JIMENEZ                 CAPTAIN III (POLICE DEPARTMENT)  155966   \n",
       "2     ALBERT PARDINI                 CAPTAIN III (POLICE DEPARTMENT)  212739   \n",
       "3  CHRISTOPHER CHONG            WIRE ROPE CABLE MAINTENANCE MECHANIC   77916   \n",
       "4    PATRICK GARDNER    DEPUTY CHIEF OF DEPARTMENT,(FIRE DEPARTMENT)  134402   \n",
       "\n",
       "  OvertimePay OtherPay      Benefits   TotalPay  TotalPayBenefits  Year  \n",
       "0           0   400184  Not Provided  567595.43         567595.43  2011  \n",
       "1      245132   137811  Not Provided  538909.28         538909.28  2011  \n",
       "2      106088  16452.6  Not Provided  335279.91         335279.91  2011  \n",
       "3     56120.7   198307  Not Provided  332343.61         332343.61  2011  \n",
       "4        9737   182235  Not Provided  326373.19         326373.19  2011  "
      ]
     },
     "execution_count": 10,
     "metadata": {},
     "output_type": "execute_result"
    }
   ],
   "source": [
    "# Load the data as a Dataframe\n",
    "salary_data = pd.read_csv(\"data/Total.csv\")\n",
    "\n",
    "# Inspect the first five rows\n",
    "salary_data.head(5)"
   ]
  },
  {
   "cell_type": "code",
   "execution_count": 16,
   "metadata": {
    "scrolled": true
   },
   "outputs": [
    {
     "name": "stdout",
     "output_type": "stream",
     "text": [
      "(312882, 9)\n"
     ]
    }
   ],
   "source": [
    "# Inspect the shape of the data\n",
    "print(salary_data.shape)"
   ]
  },
  {
   "cell_type": "markdown",
   "metadata": {},
   "source": [
    "The data has a total of 312882 records, with 9 columns viz: Employee Name, Job Title, base pay, Over time, Other pay, benefits, Total pay, Total pay benefits and the Year."
   ]
  },
  {
   "cell_type": "markdown",
   "metadata": {},
   "source": [
    "### Data Cleaning"
   ]
  },
  {
   "cell_type": "markdown",
   "metadata": {},
   "source": [
    "We will create a function that handles all the data cleaning for our dataset. This includes removing of duplicates, converting columns into their respective data types and trimming of white spaces.\n"
   ]
  },
  {
   "cell_type": "code",
   "execution_count": 17,
   "metadata": {},
   "outputs": [],
   "source": [
    "def clean_salary_data(data):\n",
    "    try:\n",
    "        # Remove records where the Employee name is missing\n",
    "        cleaned_data = data.dropna(subset=['EmployeeName'])\n",
    "        \n",
    "        # Trim whitespace from 'EmployeeName'\n",
    "        cleaned_data['EmployeeName'] = cleaned_data['EmployeeName'].str.strip()\n",
    "        \n",
    "        # Convert numerical columns to appropriate types\n",
    "        numeric_columns = ['BasePay', 'OvertimePay', 'OtherPay', 'Benefits', 'TotalPay', 'TotalPayBenefits']\n",
    "        cleaned_data[numeric_columns] = cleaned_data[numeric_columns].apply(pd.to_numeric, errors='coerce')\n",
    "        \n",
    "        # Fill missing values in numeric columns with 0\n",
    "        cleaned_data[numeric_columns] = cleaned_data[numeric_columns].fillna(0)\n",
    "        \n",
    "        return cleaned_data\n",
    "\n",
    "    except Exception as e:\n",
    "        return f\"The program encountered an error while cleaning the data: {str(e)}\"\n",
    "        "
   ]
  },
  {
   "cell_type": "code",
   "execution_count": 18,
   "metadata": {},
   "outputs": [],
   "source": [
    "# Call the function to clean the salary data\n",
    "clean_salary_data = clean_salary_data(salary_data)"
   ]
  },
  {
   "cell_type": "code",
   "execution_count": 19,
   "metadata": {
    "scrolled": true
   },
   "outputs": [
    {
     "name": "stdout",
     "output_type": "stream",
     "text": [
      "(312882, 9)\n"
     ]
    }
   ],
   "source": [
    "# Inspect the cleaned data\n",
    "print(clean_salary_data.shape)"
   ]
  },
  {
   "cell_type": "markdown",
   "metadata": {},
   "source": [
    "## 2. Create Employee Function"
   ]
  },
  {
   "cell_type": "code",
   "execution_count": 20,
   "metadata": {},
   "outputs": [],
   "source": [
    "# Let's create a function that takes in an employee's name and returns their details\n",
    "\n",
    "def employee_details(employee_name):\n",
    "    details = clean_salary_data[clean_salary_data['EmployeeName'].str.contains(employee_name, case=False, na=False)]\n",
    "    \n",
    "    # Implement a check to find if any employee details are found\n",
    "    if not details.empty:\n",
    "        return details\n",
    "    else:\n",
    "        return f\"No information found for {employee_name}\""
   ]
  },
  {
   "cell_type": "code",
   "execution_count": 22,
   "metadata": {},
   "outputs": [
    {
     "data": {
      "text/html": [
       "<div>\n",
       "<style scoped>\n",
       "    .dataframe tbody tr th:only-of-type {\n",
       "        vertical-align: middle;\n",
       "    }\n",
       "\n",
       "    .dataframe tbody tr th {\n",
       "        vertical-align: top;\n",
       "    }\n",
       "\n",
       "    .dataframe thead th {\n",
       "        text-align: right;\n",
       "    }\n",
       "</style>\n",
       "<table border=\"1\" class=\"dataframe\">\n",
       "  <thead>\n",
       "    <tr style=\"text-align: right;\">\n",
       "      <th></th>\n",
       "      <th>EmployeeName</th>\n",
       "      <th>JobTitle</th>\n",
       "      <th>BasePay</th>\n",
       "      <th>OvertimePay</th>\n",
       "      <th>OtherPay</th>\n",
       "      <th>Benefits</th>\n",
       "      <th>TotalPay</th>\n",
       "      <th>TotalPayBenefits</th>\n",
       "      <th>Year</th>\n",
       "    </tr>\n",
       "  </thead>\n",
       "  <tbody>\n",
       "    <tr>\n",
       "      <th>4</th>\n",
       "      <td>PATRICK GARDNER</td>\n",
       "      <td>DEPUTY CHIEF OF DEPARTMENT,(FIRE DEPARTMENT)</td>\n",
       "      <td>134401.6</td>\n",
       "      <td>9737.0</td>\n",
       "      <td>182234.59</td>\n",
       "      <td>0.0</td>\n",
       "      <td>326373.19</td>\n",
       "      <td>326373.19</td>\n",
       "      <td>2011</td>\n",
       "    </tr>\n",
       "  </tbody>\n",
       "</table>\n",
       "</div>"
      ],
      "text/plain": [
       "      EmployeeName                                      JobTitle   BasePay  \\\n",
       "4  PATRICK GARDNER  DEPUTY CHIEF OF DEPARTMENT,(FIRE DEPARTMENT)  134401.6   \n",
       "\n",
       "   OvertimePay   OtherPay  Benefits   TotalPay  TotalPayBenefits  Year  \n",
       "4       9737.0  182234.59       0.0  326373.19         326373.19  2011  "
      ]
     },
     "execution_count": 22,
     "metadata": {},
     "output_type": "execute_result"
    }
   ],
   "source": [
    "# Call the function to print details for one of the employees\n",
    "employee_details('PATRICK GARDNER')"
   ]
  },
  {
   "cell_type": "markdown",
   "metadata": {},
   "source": [
    "## 3. Process the salary data"
   ]
  },
  {
   "cell_type": "code",
   "execution_count": 30,
   "metadata": {},
   "outputs": [],
   "source": [
    "#We create a function to process the salary data using a Python dictionary.\n",
    "\n",
    "def process_employee_data(data):\n",
    "    try: # Exception handler\n",
    "        \n",
    "        salary_data_dictionary = {} #create an empty dictionary\n",
    "        \n",
    "        for index, row in data.iterrows():\n",
    "            \n",
    "            employee_name = row['EmployeeName'].strip().upper()\n",
    "            \n",
    "            employee_information = {\n",
    "                'JobTitle': row['JobTitle'],\n",
    "                'BasePay': row['BasePay'],\n",
    "                'OvertimePay': row['OvertimePay'],\n",
    "                'OtherPay': row['OtherPay'],\n",
    "                'Benefits': row['Benefits'],\n",
    "                'TotalPay': row['TotalPay'],\n",
    "                'TotalPayBenefits': row['TotalPayBenefits'],\n",
    "                'Year': row['Year']\n",
    "            }\n",
    "        \n",
    "            salary_data_dictionary[employee_name] = employee_information\n",
    "        \n",
    "        return salary_data_dictionary\n",
    "    \n",
    "    except Exception as e:\n",
    "        return f\"The program encountered an error while processing the data: {str(e)}\""
   ]
  },
  {
   "cell_type": "code",
   "execution_count": 31,
   "metadata": {},
   "outputs": [],
   "source": [
    "# Process the data into a dictionary\n",
    "salary_data_dictionary = process_employee_data(salary_data)"
   ]
  },
  {
   "cell_type": "code",
   "execution_count": 32,
   "metadata": {},
   "outputs": [],
   "source": [
    "# We create a function to get the employee details from the dictionary above\n",
    "\n",
    "def get_employee_details(employee_name, salary_data_dictionary):\n",
    "    \n",
    "    try:\n",
    "        # Check if the employee exists in the dictionary\n",
    "        \n",
    "        if employee_name in salary_data_dictionary:\n",
    "            return salary_data_dictionary[employee_name]\n",
    "        else:\n",
    "            return f\"No information found for: {employee_name}\"\n",
    "\n",
    "    except Exception as e:\n",
    "        return f\"The program encountered an error while processing the data: {str(e)}\"\n",
    "    "
   ]
  },
  {
   "cell_type": "code",
   "execution_count": 36,
   "metadata": {},
   "outputs": [
    {
     "data": {
      "text/plain": [
       "{'JobTitle': 'DEPUTY CHIEF OF DEPARTMENT,(FIRE DEPARTMENT)',\n",
       " 'BasePay': 134401.6,\n",
       " 'OvertimePay': 9737.0,\n",
       " 'OtherPay': 182234.59,\n",
       " 'Benefits': 'Not Provided',\n",
       " 'TotalPay': 326373.19,\n",
       " 'TotalPayBenefits': 326373.19,\n",
       " 'Year': 2011}"
      ]
     },
     "execution_count": 36,
     "metadata": {},
     "output_type": "execute_result"
    }
   ],
   "source": [
    "# We call the function to get the details of PATRICK GARDNER\n",
    "\n",
    "employee_details = get_employee_details('PATRICK GARDNER', salary_data_dictionary)\n",
    "employee_details"
   ]
  },
  {
   "cell_type": "markdown",
   "metadata": {},
   "source": [
    "## 4. Export Employee Details"
   ]
  },
  {
   "cell_type": "markdown",
   "metadata": {},
   "source": [
    "We will now create a function to export an employee's details to a CSV file and save it within a zipped folder named \"Employee Profile.\""
   ]
  },
  {
   "cell_type": "code",
   "execution_count": 43,
   "metadata": {},
   "outputs": [
    {
     "ename": "SyntaxError",
     "evalue": "invalid syntax (<ipython-input-43-30968411d282>, line 23)",
     "output_type": "error",
     "traceback": [
      "\u001b[0;36m  File \u001b[0;32m\"<ipython-input-43-30968411d282>\"\u001b[0;36m, line \u001b[0;32m23\u001b[0m\n\u001b[0;31m    else:\u001b[0m\n\u001b[0m    ^\u001b[0m\n\u001b[0;31mSyntaxError\u001b[0m\u001b[0;31m:\u001b[0m invalid syntax\n"
     ]
    }
   ],
   "source": [
    "def export_employee_details(employee_name, salary_data_dictionary):\n",
    "    try:\n",
    "        employee_details = get_employee_details(employee_name, salary_data_dictionary)\n",
    "        \n",
    "        csv_file = f\"{employee_name.replace(' ', '_')}_profile.csv\"\n",
    "        with open(csv_file, mode='w', newline='') as file:\n",
    "            \n",
    "            writer = csv.writer(file)\n",
    "            \n",
    "            # Write headers and employee details\n",
    "            \n",
    "            writer.writerow(employee_details.keys())\n",
    "            writer.writerow(employee_details.values())\n",
    "            \n",
    "        print(f\"Employee details exported to CSV: {csv_filename}\")\n",
    "        \n",
    "        zip_folder_name = \"Employee_Profile.zip\"\n",
    "        with zipfile.ZipFile(zip_folder_name, 'w', zipfile.ZIP_DEFLATED) as zipf:\n",
    "                zipf.write(csv_file)\n",
    "                \n",
    "        print(f\"CSV file zipped into: {zip_folder_name}\")\n",
    "            \n",
    "    else:\n",
    "            print(employee_details)  # Print error message if employee not found\n",
    "    \n",
    "    except Exception as e:\n",
    "        print(f\"The program encountered an error: {str(e)}\")"
   ]
  },
  {
   "cell_type": "code",
   "execution_count": null,
   "metadata": {},
   "outputs": [],
   "source": [
    "# Export Albert Pardini's data\n",
    "export_employee_details_to_csv('ALBERT PARDINI', salary_data_dictionary)"
   ]
  }
 ],
 "metadata": {
  "kernelspec": {
   "display_name": "Python 3",
   "language": "python",
   "name": "python3"
  },
  "language_info": {
   "codemirror_mode": {
    "name": "ipython",
    "version": 3
   },
   "file_extension": ".py",
   "mimetype": "text/x-python",
   "name": "python",
   "nbconvert_exporter": "python",
   "pygments_lexer": "ipython3",
   "version": "3.8.5"
  }
 },
 "nbformat": 4,
 "nbformat_minor": 4
}
