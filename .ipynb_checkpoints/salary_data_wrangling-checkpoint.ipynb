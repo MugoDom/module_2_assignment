{
 "cells": [
  {
   "cell_type": "markdown",
   "metadata": {},
   "source": [
    "### Assignment Overview\n",
    "In this assignment, we work with the provided *salary data* to develop a Jupyter Notebook. The objective is to perform various tasks related to data processing, error handling, and file handling using Python."
   ]
  },
  {
   "cell_type": "markdown",
   "metadata": {},
   "source": [
    "### Assignment Description\n",
    "The assignment consists of the following tasks:\n",
    "\n",
    "- Import Data:\n",
    "\n",
    "\n",
    " - Import the provided salary data into your Jupyter Notebook.\n",
    "\n",
    "- Create Employee Function:\n",
    "\n",
    " - Develop a Python function that accepts an employee's name as input and returns their details.\n",
    " - Data Processing with Dictionary:\n",
    "\n",
    "- Process the salary data using a Python dictionary.\n",
    "- Error Handling:\n",
    "\n",
    " - Implement error handling in your code to address potential issues gracefully.\n",
    "\n",
    "- Export Employee Details:\n",
    "\n",
    " - Export an employee's details to a CSV file and save it within a zipped folder named \"Employee Profile.\"\n",
    " - Unzip and Display Data with R:\n",
    "\n",
    "- Use R to unzip the folder created in step 5 and display the data."
   ]
  },
  {
   "cell_type": "code",
   "execution_count": 1,
   "metadata": {},
   "outputs": [],
   "source": [
    "# Import the required libraries\n",
    "import pandas as pd\n",
    "import numpy as np"
   ]
  },
  {
   "cell_type": "code",
   "execution_count": 62,
   "metadata": {},
   "outputs": [
    {
     "name": "stderr",
     "output_type": "stream",
     "text": [
      "/opt/anaconda3/lib/python3.8/site-packages/IPython/core/interactiveshell.py:3146: DtypeWarning: Columns (2,3,4,5) have mixed types.Specify dtype option on import or set low_memory=False.\n",
      "  has_raised = await self.run_ast_nodes(code_ast.body, cell_name,\n"
     ]
    },
    {
     "data": {
      "text/html": [
       "<div>\n",
       "<style scoped>\n",
       "    .dataframe tbody tr th:only-of-type {\n",
       "        vertical-align: middle;\n",
       "    }\n",
       "\n",
       "    .dataframe tbody tr th {\n",
       "        vertical-align: top;\n",
       "    }\n",
       "\n",
       "    .dataframe thead th {\n",
       "        text-align: right;\n",
       "    }\n",
       "</style>\n",
       "<table border=\"1\" class=\"dataframe\">\n",
       "  <thead>\n",
       "    <tr style=\"text-align: right;\">\n",
       "      <th></th>\n",
       "      <th>EmployeeName</th>\n",
       "      <th>JobTitle</th>\n",
       "      <th>BasePay</th>\n",
       "      <th>OvertimePay</th>\n",
       "      <th>OtherPay</th>\n",
       "      <th>Benefits</th>\n",
       "      <th>TotalPay</th>\n",
       "      <th>TotalPayBenefits</th>\n",
       "      <th>Year</th>\n",
       "    </tr>\n",
       "  </thead>\n",
       "  <tbody>\n",
       "    <tr>\n",
       "      <th>0</th>\n",
       "      <td>NATHANIEL FORD</td>\n",
       "      <td>GENERAL MANAGER-METROPOLITAN TRANSIT AUTHORITY</td>\n",
       "      <td>167411</td>\n",
       "      <td>0</td>\n",
       "      <td>400184</td>\n",
       "      <td>Not Provided</td>\n",
       "      <td>567595.43</td>\n",
       "      <td>567595.43</td>\n",
       "      <td>2011</td>\n",
       "    </tr>\n",
       "    <tr>\n",
       "      <th>1</th>\n",
       "      <td>GARY JIMENEZ</td>\n",
       "      <td>CAPTAIN III (POLICE DEPARTMENT)</td>\n",
       "      <td>155966</td>\n",
       "      <td>245132</td>\n",
       "      <td>137811</td>\n",
       "      <td>Not Provided</td>\n",
       "      <td>538909.28</td>\n",
       "      <td>538909.28</td>\n",
       "      <td>2011</td>\n",
       "    </tr>\n",
       "    <tr>\n",
       "      <th>2</th>\n",
       "      <td>ALBERT PARDINI</td>\n",
       "      <td>CAPTAIN III (POLICE DEPARTMENT)</td>\n",
       "      <td>212739</td>\n",
       "      <td>106088</td>\n",
       "      <td>16452.6</td>\n",
       "      <td>Not Provided</td>\n",
       "      <td>335279.91</td>\n",
       "      <td>335279.91</td>\n",
       "      <td>2011</td>\n",
       "    </tr>\n",
       "    <tr>\n",
       "      <th>3</th>\n",
       "      <td>CHRISTOPHER CHONG</td>\n",
       "      <td>WIRE ROPE CABLE MAINTENANCE MECHANIC</td>\n",
       "      <td>77916</td>\n",
       "      <td>56120.7</td>\n",
       "      <td>198307</td>\n",
       "      <td>Not Provided</td>\n",
       "      <td>332343.61</td>\n",
       "      <td>332343.61</td>\n",
       "      <td>2011</td>\n",
       "    </tr>\n",
       "    <tr>\n",
       "      <th>4</th>\n",
       "      <td>PATRICK GARDNER</td>\n",
       "      <td>DEPUTY CHIEF OF DEPARTMENT,(FIRE DEPARTMENT)</td>\n",
       "      <td>134402</td>\n",
       "      <td>9737</td>\n",
       "      <td>182235</td>\n",
       "      <td>Not Provided</td>\n",
       "      <td>326373.19</td>\n",
       "      <td>326373.19</td>\n",
       "      <td>2011</td>\n",
       "    </tr>\n",
       "  </tbody>\n",
       "</table>\n",
       "</div>"
      ],
      "text/plain": [
       "        EmployeeName                                        JobTitle BasePay  \\\n",
       "0     NATHANIEL FORD  GENERAL MANAGER-METROPOLITAN TRANSIT AUTHORITY  167411   \n",
       "1       GARY JIMENEZ                 CAPTAIN III (POLICE DEPARTMENT)  155966   \n",
       "2     ALBERT PARDINI                 CAPTAIN III (POLICE DEPARTMENT)  212739   \n",
       "3  CHRISTOPHER CHONG            WIRE ROPE CABLE MAINTENANCE MECHANIC   77916   \n",
       "4    PATRICK GARDNER    DEPUTY CHIEF OF DEPARTMENT,(FIRE DEPARTMENT)  134402   \n",
       "\n",
       "  OvertimePay OtherPay      Benefits   TotalPay  TotalPayBenefits  Year  \n",
       "0           0   400184  Not Provided  567595.43         567595.43  2011  \n",
       "1      245132   137811  Not Provided  538909.28         538909.28  2011  \n",
       "2      106088  16452.6  Not Provided  335279.91         335279.91  2011  \n",
       "3     56120.7   198307  Not Provided  332343.61         332343.61  2011  \n",
       "4        9737   182235  Not Provided  326373.19         326373.19  2011  "
      ]
     },
     "execution_count": 62,
     "metadata": {},
     "output_type": "execute_result"
    }
   ],
   "source": [
    "# Load the data as a Dataframe\n",
    "salary_data = pd.read_csv(\"data/Total.csv\")\n",
    "\n",
    "# Inspect the first five rows\n",
    "salary_data.head(5)"
   ]
  },
  {
   "cell_type": "code",
   "execution_count": 63,
   "metadata": {},
   "outputs": [
    {
     "name": "stdout",
     "output_type": "stream",
     "text": [
      "(312882, 9)\n"
     ]
    }
   ],
   "source": [
    "# Inspect the shape of the data\n",
    "print(salary_data.shape)"
   ]
  },
  {
   "cell_type": "markdown",
   "metadata": {},
   "source": [
    "The data has a total of 312882 records, with 9 columns viz: Employee Name, Job Title, base pay, Over time, Other pay, benefits, Total pay, Total pay benefits and the Year."
   ]
  },
  {
   "cell_type": "markdown",
   "metadata": {},
   "source": [
    "### Data Cleaning"
   ]
  },
  {
   "cell_type": "markdown",
   "metadata": {},
   "source": [
    "We will create a function that handles all the data cleaning for our dataset. This includes removing of duplicates, converting columns into their respective data types and trimming of white spaces.\n"
   ]
  },
  {
   "cell_type": "code",
   "execution_count": 64,
   "metadata": {},
   "outputs": [],
   "source": [
    "def clean_salary_data(data):\n",
    "    try:\n",
    "        # Remove records where the Employee name is missing\n",
    "        cleaned_data = data.dropna(subset=['EmployeeName'])\n",
    "        \n",
    "        # Trim whitespace from 'EmployeeName'\n",
    "        cleaned_data['EmployeeName'] = cleaned_data['EmployeeName'].str.strip()\n",
    "        \n",
    "        # Convert numerical columns to appropriate types\n",
    "        numeric_columns = ['BasePay', 'OvertimePay', 'OtherPay', 'Benefits', 'TotalPay', 'TotalPayBenefits']\n",
    "        cleaned_data[numeric_columns] = cleaned_data[numeric_columns].apply(pd.to_numeric, errors='coerce')\n",
    "        \n",
    "        # Fill missing values in numeric columns with 0\n",
    "        cleaned_data[numeric_columns] = cleaned_data[numeric_columns].fillna(0)\n",
    "        \n",
    "        return cleaned_data\n",
    "\n",
    "    except Exception as e:\n",
    "        return f\"The program encountered an error while cleaning the data: {str(e)}\"\n",
    "        "
   ]
  },
  {
   "cell_type": "code",
   "execution_count": 65,
   "metadata": {},
   "outputs": [],
   "source": [
    "# Call the function to clean the salary data\n",
    "clean_salary_data = clean_salary_data(salary_data)"
   ]
  },
  {
   "cell_type": "code",
   "execution_count": 67,
   "metadata": {},
   "outputs": [
    {
     "name": "stdout",
     "output_type": "stream",
     "text": [
      "(312882, 9)\n"
     ]
    }
   ],
   "source": [
    "# Inspect the cleaned data\n",
    "print(clean_salary_data.shape)"
   ]
  },
  {
   "cell_type": "code",
   "execution_count": 69,
   "metadata": {},
   "outputs": [],
   "source": [
    "# Let's create a function that takes in an employee's name and returns their details\n",
    "\n",
    "def employee_details(employee_name):\n",
    "    details = clean_salary_data[clean_salary_data['EmployeeName'].str.contains(employee_name, case=False, na=False)]\n",
    "    \n",
    "    # Implement a check to find if any employee details are found\n",
    "    if not details.empty:\n",
    "        return details\n",
    "    else:\n",
    "        return f\"No information found for {employee_name}\""
   ]
  },
  {
   "cell_type": "code",
   "execution_count": 70,
   "metadata": {},
   "outputs": [
    {
     "data": {
      "text/plain": [
       "'No information found for PATRICK KAMAU'"
      ]
     },
     "execution_count": 70,
     "metadata": {},
     "output_type": "execute_result"
    }
   ],
   "source": [
    "# Call the function to print details for one of the employees\n",
    "employee_details('PATRICK KAMAU')"
   ]
  },
  {
   "cell_type": "code",
   "execution_count": 60,
   "metadata": {},
   "outputs": [],
   "source": [
    "# Process the salary data using a Python dictionary. We create a function to do this.\n",
    "\n",
    "def process_employee_data(data):\n",
    "    try: # Exception handler\n",
    "        \n",
    "        salary_data_dictionary = {} #create an empty dictionary to hold the salary data\n",
    "        \n",
    "        for index, row in data.iterrows():\n",
    "            \n",
    "            employee_name = row['EmployeeName'].strip().upper()\n",
    "            \n",
    "            employee_information = {\n",
    "                'JobTitle': row['JobTitle'],\n",
    "                'BasePay': row['BasePay'],\n",
    "                'OvertimePay': row['OvertimePay'],\n",
    "                'OtherPay': row['OtherPay'],\n",
    "                'Benefits': row['Benefits'],\n",
    "                'TotalPay': row['TotalPay'],\n",
    "                'TotalPayBenefits': row['TotalPayBenefits'],\n",
    "                'Year': row['Year']\n",
    "            }\n",
    "        \n",
    "        salary_data_dictionary[employee_name] = employee_information\n",
    "        \n",
    "        print(\"Employee names in dictionary (sample):\", list(salary_data_dictionary.keys())[:30])\n",
    "        \n",
    "        return salary_data_dictionary\n",
    "    \n",
    "    except Exception as e:\n",
    "        return f\"The program encountered an error while processing the data: {str(e)}\""
   ]
  },
  {
   "cell_type": "code",
   "execution_count": 61,
   "metadata": {},
   "outputs": [
    {
     "name": "stdout",
     "output_type": "stream",
     "text": [
      "Employee names in dictionary (sample): ['DEBORA E HOWARD']\n"
     ]
    }
   ],
   "source": [
    "# Process the data into a dictionary\n",
    "salary_data_dictionary = process_employee_data(df)"
   ]
  },
  {
   "cell_type": "code",
   "execution_count": 53,
   "metadata": {},
   "outputs": [],
   "source": [
    "# We create a function to get the employee details from the dictionary above\n",
    "\n",
    "def get_employee_details(employee_name, salary_data_dictionary):\n",
    "    \n",
    "    try:\n",
    "        # Check if the employee exists in the dictionary\n",
    "        \n",
    "        if employee_name in salary_data_dictionary:\n",
    "            return salary_data_dictionary[employee_name]\n",
    "        else:\n",
    "            return f\"No information found for: {employee_name}\"\n",
    "\n",
    "    except Exception as e:\n",
    "        return f\"The program encountered an error while processing the data: {str(e)}\"\n",
    "    "
   ]
  },
  {
   "cell_type": "code",
   "execution_count": 54,
   "metadata": {},
   "outputs": [
    {
     "data": {
      "text/plain": [
       "'No information found for: ALBERT PARDINI'"
      ]
     },
     "execution_count": 54,
     "metadata": {},
     "output_type": "execute_result"
    }
   ],
   "source": [
    "employee_details = get_employee_details('ALBERT PARDINI', salary_data_dictionary)\n",
    "employee_details"
   ]
  },
  {
   "cell_type": "code",
   "execution_count": null,
   "metadata": {},
   "outputs": [],
   "source": []
  }
 ],
 "metadata": {
  "kernelspec": {
   "display_name": "Python 3",
   "language": "python",
   "name": "python3"
  },
  "language_info": {
   "codemirror_mode": {
    "name": "ipython",
    "version": 3
   },
   "file_extension": ".py",
   "mimetype": "text/x-python",
   "name": "python",
   "nbconvert_exporter": "python",
   "pygments_lexer": "ipython3",
   "version": "3.8.5"
  }
 },
 "nbformat": 4,
 "nbformat_minor": 4
}
